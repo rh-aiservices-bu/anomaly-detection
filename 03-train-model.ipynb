{
 "cells": [
  {
   "cell_type": "code",
   "execution_count": 2,
   "id": "38c22072-3e06-414d-8e46-10b8c7f9a064",
   "metadata": {},
   "outputs": [],
   "source": [
    "import pandas as pd\n",
    "import numpy as np\n",
    "import plotly.express as px\n",
    "from sklearn.model_selection import train_test_split\n",
    "import joblib\n",
    "from fbprophet import Prophet"
   ]
  },
  {
   "cell_type": "code",
   "execution_count": 3,
   "id": "21aa3c08-a7a2-4af6-bf33-2c91a7810071",
   "metadata": {},
   "outputs": [],
   "source": [
    "# Load the dataframe\n",
    "dataframe = joblib.load('dataframe.pkl')"
   ]
  },
  {
   "cell_type": "code",
   "execution_count": 5,
   "id": "d15e499e-fe61-4271-8d21-ba48753f8ec3",
   "metadata": {},
   "outputs": [
    {
     "data": {
      "text/plain": [
       "['df.pkl']"
      ]
     },
     "execution_count": 5,
     "metadata": {},
     "output_type": "execute_result"
    }
   ],
   "source": [
    "df = dataframe.reset_index()[['timestamp', 'value']].rename({'timestamp': 'ds', 'value': 'y'}, axis = 'columns')\n",
    "joblib.dump(df, 'df.pkl')"
   ]
  },
  {
   "cell_type": "code",
   "execution_count": 63,
   "id": "880a59f9-ecc2-4caf-9bd2-f38d8be3b8be",
   "metadata": {},
   "outputs": [
    {
     "name": "stdout",
     "output_type": "stream",
     "text": [
      "Number of training samples:  267\n",
      "Number of testing sample:  67\n"
     ]
    }
   ],
   "source": [
    "# Split data in training and test set\n",
    "train, test = train_test_split(df, test_size=0.2, shuffle=False)\n",
    "print(\"Number of training samples: \", len(train))\n",
    "print(\"Number of testing sample: \", len(test))\n"
   ]
  },
  {
   "cell_type": "code",
   "execution_count": 71,
   "id": "ef91389d-a6ac-4e0d-833e-f3e325075fbd",
   "metadata": {},
   "outputs": [
    {
     "name": "stderr",
     "output_type": "stream",
     "text": [
      "INFO:fbprophet:Disabling yearly seasonality. Run prophet with yearly_seasonality=True to override this.\n",
      "INFO:fbprophet:Disabling weekly seasonality. Run prophet with weekly_seasonality=True to override this.\n"
     ]
    },
    {
     "name": "stdout",
     "output_type": "stream",
     "text": [
      "Initial log joint probability = -3.53403\n",
      "    Iter      log prob        ||dx||      ||grad||       alpha      alpha0  # evals  Notes \n",
      "      99       502.528   8.04792e-05       70.2172      0.9937      0.9937      127   \n",
      "    Iter      log prob        ||dx||      ||grad||       alpha      alpha0  # evals  Notes \n",
      "     164       502.545   1.18472e-05       82.8404   1.725e-07       0.001      263  LS failed, Hessian reset \n",
      "     189       502.545   3.56877e-08       60.0946      0.7445      0.7445      300   \n",
      "Optimization terminated normally: \n",
      "  Convergence detected: relative gradient magnitude is below tolerance\n"
     ]
    },
    {
     "data": {
      "text/plain": [
       "['model.pkl']"
      ]
     },
     "execution_count": 71,
     "metadata": {},
     "output_type": "execute_result"
    }
   ],
   "source": [
    "m = Prophet(changepoint_range=0.95)\n",
    "m.fit(train)\n",
    "joblib.dump(m, 'model.pkl')"
   ]
  },
  {
   "cell_type": "code",
   "execution_count": 65,
   "id": "943b4fb6-87a7-46c3-ac2b-5739a92a9e41",
   "metadata": {},
   "outputs": [
    {
     "data": {
      "text/html": [
       "<div>\n",
       "<style scoped>\n",
       "    .dataframe tbody tr th:only-of-type {\n",
       "        vertical-align: middle;\n",
       "    }\n",
       "\n",
       "    .dataframe tbody tr th {\n",
       "        vertical-align: top;\n",
       "    }\n",
       "\n",
       "    .dataframe thead th {\n",
       "        text-align: right;\n",
       "    }\n",
       "</style>\n",
       "<table border=\"1\" class=\"dataframe\">\n",
       "  <thead>\n",
       "    <tr style=\"text-align: right;\">\n",
       "      <th></th>\n",
       "      <th>ds</th>\n",
       "    </tr>\n",
       "  </thead>\n",
       "  <tbody>\n",
       "    <tr>\n",
       "      <th>382</th>\n",
       "      <td>2014-03-17 15:00:00</td>\n",
       "    </tr>\n",
       "    <tr>\n",
       "      <th>383</th>\n",
       "      <td>2014-03-17 16:00:00</td>\n",
       "    </tr>\n",
       "    <tr>\n",
       "      <th>384</th>\n",
       "      <td>2014-03-17 17:00:00</td>\n",
       "    </tr>\n",
       "    <tr>\n",
       "      <th>385</th>\n",
       "      <td>2014-03-17 18:00:00</td>\n",
       "    </tr>\n",
       "  </tbody>\n",
       "</table>\n",
       "</div>"
      ],
      "text/plain": [
       "                     ds\n",
       "382 2014-03-17 15:00:00\n",
       "383 2014-03-17 16:00:00\n",
       "384 2014-03-17 17:00:00\n",
       "385 2014-03-17 18:00:00"
      ]
     },
     "execution_count": 65,
     "metadata": {},
     "output_type": "execute_result"
    }
   ],
   "source": [
    "future = m.make_future_dataframe(periods=119, freq='H')\n",
    "future.tail(4)\n"
   ]
  },
  {
   "cell_type": "code",
   "execution_count": 66,
   "id": "7d4456f3-a039-498b-b6c0-b1d7f1007fad",
   "metadata": {},
   "outputs": [
    {
     "data": {
      "text/html": [
       "<div>\n",
       "<style scoped>\n",
       "    .dataframe tbody tr th:only-of-type {\n",
       "        vertical-align: middle;\n",
       "    }\n",
       "\n",
       "    .dataframe tbody tr th {\n",
       "        vertical-align: top;\n",
       "    }\n",
       "\n",
       "    .dataframe thead th {\n",
       "        text-align: right;\n",
       "    }\n",
       "</style>\n",
       "<table border=\"1\" class=\"dataframe\">\n",
       "  <thead>\n",
       "    <tr style=\"text-align: right;\">\n",
       "      <th></th>\n",
       "      <th>ds</th>\n",
       "      <th>yhat</th>\n",
       "      <th>yhat_lower</th>\n",
       "      <th>yhat_upper</th>\n",
       "    </tr>\n",
       "  </thead>\n",
       "  <tbody>\n",
       "    <tr>\n",
       "      <th>381</th>\n",
       "      <td>2014-03-17 14:00:00</td>\n",
       "      <td>21321.283121</td>\n",
       "      <td>-303752.503792</td>\n",
       "      <td>333749.797826</td>\n",
       "    </tr>\n",
       "    <tr>\n",
       "      <th>382</th>\n",
       "      <td>2014-03-17 15:00:00</td>\n",
       "      <td>57978.853404</td>\n",
       "      <td>-262489.174564</td>\n",
       "      <td>399734.941686</td>\n",
       "    </tr>\n",
       "    <tr>\n",
       "      <th>383</th>\n",
       "      <td>2014-03-17 16:00:00</td>\n",
       "      <td>132496.858414</td>\n",
       "      <td>-180324.512459</td>\n",
       "      <td>434804.998535</td>\n",
       "    </tr>\n",
       "    <tr>\n",
       "      <th>384</th>\n",
       "      <td>2014-03-17 17:00:00</td>\n",
       "      <td>219160.017769</td>\n",
       "      <td>-106340.509892</td>\n",
       "      <td>531187.393036</td>\n",
       "    </tr>\n",
       "    <tr>\n",
       "      <th>385</th>\n",
       "      <td>2014-03-17 18:00:00</td>\n",
       "      <td>284891.024326</td>\n",
       "      <td>-51661.305985</td>\n",
       "      <td>618433.442134</td>\n",
       "    </tr>\n",
       "  </tbody>\n",
       "</table>\n",
       "</div>"
      ],
      "text/plain": [
       "                     ds           yhat     yhat_lower     yhat_upper\n",
       "381 2014-03-17 14:00:00   21321.283121 -303752.503792  333749.797826\n",
       "382 2014-03-17 15:00:00   57978.853404 -262489.174564  399734.941686\n",
       "383 2014-03-17 16:00:00  132496.858414 -180324.512459  434804.998535\n",
       "384 2014-03-17 17:00:00  219160.017769 -106340.509892  531187.393036\n",
       "385 2014-03-17 18:00:00  284891.024326  -51661.305985  618433.442134"
      ]
     },
     "execution_count": 66,
     "metadata": {},
     "output_type": "execute_result"
    }
   ],
   "source": [
    "forecast = m.predict(future)\n",
    "forecast[['ds','yhat','yhat_lower','yhat_upper']].tail()"
   ]
  },
  {
   "cell_type": "code",
   "execution_count": 67,
   "id": "f015de86-30de-471b-bb9c-a8809cb14c52",
   "metadata": {},
   "outputs": [
    {
     "data": {
      "image/png": "[encoded data removed]",
      "text/plain": [
       "<Figure size 720x432 with 1 Axes>"
      ]
     },
     "metadata": {},
     "output_type": "display_data"
    }
   ],
   "source": [
    "result = pd.concat([df.set_index('ds')['y'], forecast.set_index('ds')[['yhat','yhat_lower','yhat_upper']]], axis=1)\n",
    "fig1 = m.plot(forecast)"
   ]
  },
  {
   "cell_type": "code",
   "execution_count": 68,
   "id": "9003d5f3-1cc3-49d4-9b22-68cc15bfbfa7",
   "metadata": {},
   "outputs": [],
   "source": [
    "result['error'] = result['y'] - result['yhat']\n",
    "result['uncertainty'] = result['yhat_upper'] - result['yhat_lower']"
   ]
  },
  {
   "cell_type": "code",
   "execution_count": 69,
   "id": "0cf320e2-d1ba-484e-b723-f0dd29f040a3",
   "metadata": {},
   "outputs": [],
   "source": [
    "result['anomaly'] = result.apply(lambda x: 'Yes' if(np.abs(x['error']) > 1.5*x['uncertainty']) else 'No', axis = 1)"
   ]
  },
  {
   "cell_type": "code",
   "execution_count": 70,
   "id": "aac6747e-bc0d-43d6-865f-22410e9ef32c",
   "metadata": {},
   "outputs": [
    {
     "data": {
      "application/vnd.plotly.v1+json": {
       "config": {
        "plotlyServerURL": "https://plot.ly"
       },
       "data": [
        {
         "hovertemplate": "anomaly=No<br>ds=%{x}<br>y=%{y}<extra></extra>",
         "legendgroup": "No",
         "marker": {
          "color": "#636efa",
          "symbol": "circle"
         },
         "mode": "markers",
         "name": "No",
         "orientation": "v",
         "showlegend": true,
         "type": "scatter",
         "x": [
          "2014-03-01T17:00:00",
          "2014-03-01T18:00:00",
          "2014-03-01T19:00:00",
          "2014-03-01T20:00:00",
          "2014-03-01T21:00:00",
          "2014-03-01T22:00:00",
          "2014-03-01T23:00:00",
          "2014-03-02T00:00:00",
          "2014-03-02T01:00:00",
          "2014-03-02T02:00:00",
          "2014-03-02T03:00:00",
          "2014-03-02T04:00:00",
          "2014-03-02T05:00:00",
          "2014-03-02T06:00:00",
          "2014-03-02T07:00:00",
          "2014-03-02T08:00:00",
          "2014-03-02T09:00:00",
          "2014-03-02T10:00:00",
          "2014-03-02T11:00:00",
          "2014-03-02T12:00:00",
          "2014-03-02T13:00:00",
          "2014-03-02T14:00:00",
          "2014-03-02T15:00:00",
          "2014-03-02T16:00:00",
          "2014-03-02T17:00:00",
          "2014-03-02T18:00:00",
          "2014-03-02T19:00:00",
          "2014-03-02T20:00:00",
          "2014-03-02T21:00:00",
          "2014-03-02T22:00:00",
          "2014-03-02T23:00:00",
          "2014-03-03T00:00:00",
          "2014-03-03T01:00:00",
          "2014-03-03T02:00:00",
          "2014-03-03T03:00:00",
          "2014-03-03T04:00:00",
          "2014-03-03T05:00:00",
          "2014-03-03T06:00:00",
          "2014-03-03T07:00:00",
          "2014-03-03T08:00:00",
          "2014-03-03T09:00:00",
          "2014-03-03T10:00:00",
          "2014-03-03T11:00:00",
          "2014-03-03T12:00:00",
          "2014-03-03T13:00:00",
          "2014-03-03T14:00:00",
          "2014-03-03T15:00:00",
          "2014-03-03T16:00:00",
          "2014-03-03T17:00:00",
          "2014-03-03T18:00:00",
          "2014-03-03T19:00:00",
          "2014-03-03T20:00:00",
          "2014-03-03T21:00:00",
          "2014-03-03T22:00:00",
          "2014-03-03T23:00:00",
          "2014-03-04T00:00:00",
          "2014-03-04T01:00:00",
          "2014-03-04T02:00:00",
          "2014-03-04T03:00:00",
          "2014-03-04T04:00:00",
          "2014-03-04T05:00:00",
          "2014-03-04T06:00:00",
          "2014-03-04T07:00:00",
          "2014-03-04T08:00:00",
          "2014-03-04T09:00:00",
          "2014-03-04T10:00:00",
          "2014-03-04T11:00:00",
          "2014-03-04T12:00:00",
          "2014-03-04T13:00:00",
          "2014-03-04T14:00:00",
          "2014-03-04T15:00:00",
          "2014-03-04T16:00:00",
          "2014-03-04T17:00:00",
          "2014-03-04T18:00:00",
          "2014-03-04T19:00:00",
          "2014-03-04T20:00:00",
          "2014-03-04T21:00:00",
          "2014-03-04T22:00:00",
          "2014-03-04T23:00:00",
          "2014-03-05T00:00:00",
          "2014-03-05T01:00:00",
          "2014-03-05T02:00:00",
          "2014-03-05T03:00:00",
          "2014-03-05T04:00:00",
          "2014-03-05T05:00:00",
          "2014-03-05T06:00:00",
          "2014-03-05T07:00:00",
          "2014-03-05T08:00:00",
          "2014-03-05T09:00:00",
          "2014-03-05T10:00:00",
          "2014-03-05T11:00:00",
          "2014-03-05T12:00:00",
          "2014-03-05T13:00:00",
          "2014-03-05T14:00:00",
          "2014-03-05T15:00:00",
          "2014-03-05T16:00:00",
          "2014-03-05T17:00:00",
          "2014-03-05T18:00:00",
          "2014-03-05T19:00:00",
          "2014-03-05T20:00:00",
          "2014-03-05T21:00:00",
          "2014-03-05T22:00:00",
          "2014-03-05T23:00:00",
          "2014-03-06T00:00:00",
          "2014-03-06T01:00:00",
          "2014-03-06T02:00:00",
          "2014-03-06T03:00:00",
          "2014-03-06T04:00:00",
          "2014-03-06T05:00:00",
          "2014-03-06T06:00:00",
          "2014-03-06T07:00:00",
          "2014-03-06T08:00:00",
          "2014-03-06T09:00:00",
          "2014-03-06T10:00:00",
          "2014-03-06T11:00:00",
          "2014-03-06T12:00:00",
          "2014-03-06T13:00:00",
          "2014-03-06T14:00:00",
          "2014-03-06T15:00:00",
          "2014-03-06T16:00:00",
          "2014-03-06T17:00:00",
          "2014-03-06T18:00:00",
          "2014-03-06T19:00:00",
          "2014-03-06T20:00:00",
          "2014-03-06T21:00:00",
          "2014-03-06T22:00:00",
          "2014-03-06T23:00:00",
          "2014-03-07T00:00:00",
          "2014-03-07T01:00:00",
          "2014-03-07T02:00:00",
          "2014-03-07T03:00:00",
          "2014-03-07T04:00:00",
          "2014-03-07T05:00:00",
          "2014-03-07T06:00:00",
          "2014-03-07T07:00:00",
          "2014-03-07T08:00:00",
          "2014-03-07T09:00:00",
          "2014-03-07T10:00:00",
          "2014-03-07T11:00:00",
          "2014-03-07T12:00:00",
          "2014-03-07T13:00:00",
          "2014-03-07T14:00:00",
          "2014-03-07T15:00:00",
          "2014-03-07T16:00:00",
          "2014-03-07T17:00:00",
          "2014-03-07T18:00:00",
          "2014-03-07T19:00:00",
          "2014-03-07T20:00:00",
          "2014-03-07T21:00:00",
          "2014-03-07T22:00:00",
          "2014-03-07T23:00:00",
          "2014-03-08T00:00:00",
          "2014-03-08T01:00:00",
          "2014-03-08T02:00:00",
          "2014-03-08T03:00:00",
          "2014-03-08T04:00:00",
          "2014-03-08T05:00:00",
          "2014-03-08T06:00:00",
          "2014-03-08T07:00:00",
          "2014-03-08T08:00:00",
          "2014-03-08T09:00:00",
          "2014-03-08T10:00:00",
          "2014-03-08T11:00:00",
          "2014-03-08T12:00:00",
          "2014-03-08T13:00:00",
          "2014-03-08T14:00:00",
          "2014-03-08T15:00:00",
          "2014-03-08T16:00:00",
          "2014-03-08T17:00:00",
          "2014-03-08T18:00:00",
          "2014-03-08T19:00:00",
          "2014-03-08T20:00:00",
          "2014-03-08T21:00:00",
          "2014-03-08T22:00:00",
          "2014-03-08T23:00:00",
          "2014-03-09T00:00:00",
          "2014-03-09T01:00:00",
          "2014-03-09T02:00:00",
          "2014-03-09T03:00:00",
          "2014-03-09T04:00:00",
          "2014-03-09T05:00:00",
          "2014-03-09T06:00:00",
          "2014-03-09T07:00:00",
          "2014-03-09T08:00:00",
          "2014-03-09T09:00:00",
          "2014-03-09T10:00:00",
          "2014-03-09T11:00:00",
          "2014-03-09T12:00:00",
          "2014-03-09T13:00:00",
          "2014-03-09T14:00:00",
          "2014-03-09T15:00:00",
          "2014-03-09T16:00:00",
          "2014-03-09T17:00:00",
          "2014-03-09T18:00:00",
          "2014-03-09T19:00:00",
          "2014-03-09T20:00:00",
          "2014-03-09T21:00:00",
          "2014-03-09T22:00:00",
          "2014-03-09T23:00:00",
          "2014-03-10T00:00:00",
          "2014-03-10T01:00:00",
          "2014-03-10T02:00:00",
          "2014-03-10T03:00:00",
          "2014-03-10T04:00:00",
          "2014-03-10T05:00:00",
          "2014-03-10T06:00:00",
          "2014-03-10T07:00:00",
          "2014-03-10T08:00:00",
          "2014-03-10T09:00:00",
          "2014-03-10T10:00:00",
          "2014-03-10T11:00:00",
          "2014-03-10T12:00:00",
          "2014-03-10T13:00:00",
          "2014-03-10T14:00:00",
          "2014-03-10T15:00:00",
          "2014-03-10T16:00:00",
          "2014-03-10T17:00:00",
          "2014-03-10T18:00:00",
          "2014-03-10T20:00:00",
          "2014-03-10T21:00:00",
          "2014-03-10T22:00:00",
          "2014-03-10T23:00:00",
          "2014-03-11T00:00:00",
          "2014-03-11T01:00:00",
          "2014-03-11T02:00:00",
          "2014-03-11T03:00:00",
          "2014-03-11T04:00:00",
          "2014-03-11T05:00:00",
          "2014-03-11T06:00:00",
          "2014-03-11T07:00:00",
          "2014-03-11T08:00:00",
          "2014-03-11T09:00:00",
          "2014-03-11T10:00:00",
          "2014-03-11T11:00:00",
          "2014-03-11T12:00:00",
          "2014-03-11T13:00:00",
          "2014-03-11T14:00:00",
          "2014-03-11T15:00:00",
          "2014-03-11T16:00:00",
          "2014-03-11T17:00:00",
          "2014-03-11T18:00:00",
          "2014-03-11T19:00:00",
          "2014-03-11T20:00:00",
          "2014-03-11T21:00:00",
          "2014-03-11T22:00:00",
          "2014-03-11T23:00:00",
          "2014-03-12T00:00:00",
          "2014-03-12T01:00:00",
          "2014-03-12T02:00:00",
          "2014-03-12T03:00:00",
          "2014-03-12T04:00:00",
          "2014-03-12T05:00:00",
          "2014-03-12T06:00:00",
          "2014-03-12T07:00:00",
          "2014-03-12T08:00:00",
          "2014-03-12T09:00:00",
          "2014-03-12T10:00:00",
          "2014-03-12T11:00:00",
          "2014-03-12T12:00:00",
          "2014-03-12T13:00:00",
          "2014-03-12T14:00:00",
          "2014-03-12T15:00:00",
          "2014-03-12T16:00:00",
          "2014-03-12T17:00:00",
          "2014-03-12T18:00:00",
          "2014-03-12T19:00:00",
          "2014-03-12T20:00:00",
          "2014-03-12T21:00:00",
          "2014-03-12T22:00:00",
          "2014-03-12T23:00:00",
          "2014-03-13T00:00:00",
          "2014-03-13T01:00:00",
          "2014-03-13T02:00:00",
          "2014-03-13T03:00:00",
          "2014-03-13T04:00:00",
          "2014-03-13T05:00:00",
          "2014-03-13T06:00:00",
          "2014-03-13T07:00:00",
          "2014-03-13T08:00:00",
          "2014-03-13T09:00:00",
          "2014-03-13T10:00:00",
          "2014-03-13T11:00:00",
          "2014-03-13T12:00:00",
          "2014-03-13T13:00:00",
          "2014-03-13T14:00:00",
          "2014-03-13T15:00:00",
          "2014-03-13T16:00:00",
          "2014-03-13T17:00:00",
          "2014-03-13T18:00:00",
          "2014-03-13T19:00:00",
          "2014-03-13T20:00:00",
          "2014-03-13T21:00:00",
          "2014-03-13T22:00:00",
          "2014-03-13T23:00:00",
          "2014-03-14T00:00:00",
          "2014-03-14T01:00:00",
          "2014-03-14T02:00:00",
          "2014-03-14T03:00:00",
          "2014-03-14T04:00:00",
          "2014-03-14T05:00:00",
          "2014-03-14T06:00:00",
          "2014-03-14T07:00:00",
          "2014-03-14T08:00:00",
          "2014-03-14T09:00:00",
          "2014-03-14T10:00:00",
          "2014-03-14T11:00:00",
          "2014-03-14T12:00:00",
          "2014-03-14T13:00:00",
          "2014-03-14T14:00:00",
          "2014-03-14T15:00:00",
          "2014-03-14T16:00:00",
          "2014-03-14T17:00:00",
          "2014-03-14T18:00:00",
          "2014-03-14T19:00:00",
          "2014-03-14T20:00:00",
          "2014-03-14T21:00:00",
          "2014-03-14T22:00:00",
          "2014-03-14T23:00:00",
          "2014-03-15T00:00:00",
          "2014-03-15T01:00:00",
          "2014-03-15T02:00:00",
          "2014-03-15T03:00:00",
          "2014-03-15T04:00:00",
          "2014-03-15T05:00:00",
          "2014-03-15T06:00:00",
          "2014-03-15T07:00:00",
          "2014-03-15T08:00:00",
          "2014-03-15T09:00:00",
          "2014-03-15T10:00:00",
          "2014-03-15T11:00:00",
          "2014-03-15T12:00:00",
          "2014-03-15T13:00:00",
          "2014-03-15T14:00:00",
          "2014-03-15T15:00:00",
          "2014-03-15T16:00:00",
          "2014-03-15T17:00:00",
          "2014-03-15T18:00:00",
          "2014-03-15T19:00:00",
          "2014-03-15T20:00:00",
          "2014-03-15T21:00:00",
          "2014-03-15T22:00:00",
          "2014-03-15T23:00:00",
          "2014-03-16T00:00:00",
          "2014-03-16T01:00:00",
          "2014-03-16T02:00:00",
          "2014-03-16T03:00:00",
          "2014-03-16T04:00:00",
          "2014-03-16T05:00:00",
          "2014-03-16T06:00:00",
          "2014-03-16T07:00:00",
          "2014-03-16T08:00:00",
          "2014-03-16T09:00:00",
          "2014-03-16T10:00:00",
          "2014-03-16T11:00:00",
          "2014-03-16T12:00:00",
          "2014-03-16T13:00:00",
          "2014-03-16T14:00:00",
          "2014-03-16T15:00:00",
          "2014-03-16T16:00:00",
          "2014-03-16T17:00:00",
          "2014-03-16T18:00:00",
          "2014-03-16T19:00:00",
          "2014-03-16T20:00:00",
          "2014-03-16T21:00:00",
          "2014-03-16T22:00:00",
          "2014-03-16T23:00:00",
          "2014-03-17T00:00:00",
          "2014-03-17T01:00:00",
          "2014-03-17T02:00:00",
          "2014-03-17T03:00:00",
          "2014-03-17T04:00:00",
          "2014-03-17T05:00:00",
          "2014-03-17T06:00:00",
          "2014-03-17T07:00:00",
          "2014-03-17T08:00:00",
          "2014-03-17T09:00:00",
          "2014-03-17T10:00:00",
          "2014-03-17T11:00:00",
          "2014-03-17T12:00:00",
          "2014-03-17T13:00:00",
          "2014-03-17T14:00:00",
          "2014-03-17T15:00:00",
          "2014-03-17T16:00:00",
          "2014-03-17T17:00:00",
          "2014-03-17T18:00:00"
         ],
         "xaxis": "x",
         "y": [
          63.120000000000005,
          69.3,
          78.35,
          67.8,
          71.49999999999999,
          67,
          72.2,
          67.8,
          72.2,
          66.2,
          71.49999999999999,
          67.8,
          72.89999999999999,
          65.6,
          79.74999999999999,
          67.8,
          72.9,
          66.2,
          72.2,
          66.99999999999999,
          71.49999999999999,
          68.5,
          69.99999999999999,
          69.2,
          78.35,
          69.2,
          68.49999999999999,
          68.5,
          70.69999999999999,
          67,
          72.19999999999999,
          67.8,
          75.09999999999998,
          64,
          77.64999999999999,
          67,
          72.19999999999999,
          69.19999999999999,
          72.19999999999999,
          29395.466666666674,
          67.7,
          68.49999999999999,
          66.2,
          71.49999999999999,
          69.2,
          72.2,
          76.05,
          71.49999999999999,
          492800.58333333343,
          487517.88333333336,
          437852.3666666667,
          576985.2999999999,
          469139.64999999997,
          51925.88333333335,
          491380.43333333335,
          492199.0333333334,
          488985.4000000001,
          79.74999999999999,
          69.89999999999999,
          70.69999999999999,
          67.8,
          72.1,
          70.6,
          71.49999999999999,
          66.3,
          72.19999999999999,
          69.2,
          76.85,
          71.4,
          72.89999999999999,
          69.9,
          73.6,
          490533.83333333343,
          72.19999999999999,
          30929.2,
          71.39999999999999,
          490242.6666666667,
          498116.6499999999,
          487278.73333333334,
          69.19999999999999,
          71.39999999999999,
          67.8,
          72.19999999999999,
          67,
          72.2,
          67.8,
          72.89999999999999,
          73.95,
          72.2,
          69.2,
          72.2,
          66.99999999999999,
          72.19999999999999,
          67.8,
          71.49999999999999,
          67.8,
          72.19999999999999,
          491291.4000000001,
          490454.8333333333,
          490458.65000000014,
          522802.5,
          133801.56666666668,
          1085256.6333333333,
          960836.5499999999,
          49922.13333333335,
          67.1,
          493416.98333333345,
          67.69999999999999,
          78.35,
          71.39999999999999,
          68.6,
          492136.9000000001,
          439593.38333333336,
          53256.75000000001,
          67.1,
          72.2,
          67.1,
          71.49999999999999,
          74.64999999999999,
          72.89999999999999,
          492682.3833333333,
          40442.48333333333,
          521949.2000000001,
          44108.700000000004,
          37081.75000000001,
          36494.96666666667,
          27127.300000000003,
          71.49999999999999,
          37435,
          29910.66666666667,
          69.2,
          70.8,
          33045.16666666668,
          72.19999999999999,
          67,
          33076.933333333334,
          69.2,
          495017.55000000005,
          33233.233333333344,
          74.39999999999999,
          68.5,
          71.49999999999999,
          68.49999999999999,
          71.49999999999999,
          556089.4333333333,
          497861.7333333334,
          67405.3,
          530645.8666666667,
          1097035.7166666668,
          500471.2833333334,
          585157.1666666666,
          135.95000000000002,
          495820.35000000003,
          496292.3500000001,
          497275.4333333334,
          496864.9000000001,
          75,
          70.59999999999998,
          74.3,
          77.44999999999999,
          73.5,
          69.9,
          72.1,
          70.6,
          72.89999999999999,
          69.2,
          70.69999999999999,
          69.1,
          70.60000000000001,
          70.6,
          79.75000000000001,
          69.1,
          73.6,
          442642.71666666673,
          54556.733333333344,
          69.9,
          74.99999999999999,
          null,
          69.2,
          71.3,
          71.99999999999999,
          78.95,
          71.39999999999999,
          75.00000000000001,
          70.6,
          69.99999999999999,
          70.6,
          75,
          70.60000000000001,
          72.2,
          69.9,
          81.85,
          70.60000000000001,
          72.2,
          69.10000000000001,
          75.7,
          69.9,
          72.89999999999999,
          71.3,
          72.8,
          68.39999999999999,
          73.59999999999998,
          75.95,
          72.7,
          69.2,
          69.89999999999999,
          71.3,
          19225.2,
          68.5,
          76.5,
          70.60000000000001,
          441928.89999999997,
          53049.05000000002,
          74.99999999999999,
          496395.25,
          499377.86666666664,
          598390.9333333333,
          543351.4,
          10191.466666666665,
          674174.2833333333,
          599315.15,
          73.09999999999998,
          604199.3833333334,
          598421.8166666667,
          70.6,
          73.60000000000001,
          69.2,
          74.3,
          69.89999999999999,
          34975.5,
          77.45,
          74.3,
          69.89999999999999,
          73.60000000000001,
          69.10000000000001,
          72.89999999999999,
          69.2,
          72.8,
          68.39999999999999,
          81.14999999999999,
          107221.54999999999,
          73.6,
          544499.45,
          55653.38333333335,
          67.7,
          74.3,
          69.89999999999999,
          72.89999999999999,
          72.10000000000001,
          78.24999999999999,
          70.69999999999999,
          73.49999999999999,
          608130.4833333334,
          70.6,
          72.89999999999999,
          68.39999999999999,
          74.30000000000001,
          70.60000000000001,
          71.5,
          69.2,
          72.8,
          76.05,
          73.60000000000001,
          601142.7666666667,
          35501.56666666667,
          70.60000000000001,
          687950.3833333334,
          853174.6333333333,
          601535.1333333334,
          640206.85,
          602096.3333333334,
          69.1,
          603435.55,
          69.2,
          73.59999999999998,
          36524.71666666667,
          72.89999999999999,
          67.8,
          72.19999999999999,
          70.6,
          75,
          71.39999999999999,
          78.24999999999999,
          69.89999999999999,
          69.19999999999999,
          604374.1833333333,
          70.69999999999999,
          541058.7999999999,
          61705.33333333334,
          69.3,
          70,
          72.89999999999999,
          298.93333333333334,
          604206.4333333335,
          546763.4833333333,
          660328.3833333333,
          67.10000000000001,
          71.49999999999999,
          1409,
          603694.6166666668,
          67.8,
          71.49999999999999,
          604334.5833333334,
          72.2,
          65.6,
          604636.4,
          69.89999999999999,
          70.69999999999999,
          69.19999999999999,
          74.3,
          603145.5000000001,
          605296.95,
          603735.1666666666,
          604170.75,
          130.15000000000003,
          72.19999999999999,
          607712.3833333334,
          642675.3,
          1149427.7333333332,
          61355.600000000006,
          71.39999999999999,
          72.8,
          67.8,
          77.55,
          70.60000000000001,
          73.49999999999999,
          69.9,
          69.19999999999999,
          74.3,
          70.6,
          70.6,
          68.39999999999999,
          73.67999999999999,
          null,
          null,
          null,
          null,
          null,
          null,
          null,
          null,
          null,
          null,
          null,
          null,
          null,
          null,
          null,
          null,
          null,
          null,
          null,
          null,
          null,
          null,
          null,
          null,
          null,
          null,
          null,
          null,
          null,
          null,
          null,
          null,
          null,
          null,
          null,
          null,
          null,
          null,
          null,
          null,
          null,
          null,
          null,
          null,
          null,
          null,
          null,
          null,
          null,
          null,
          null,
          null
         ],
         "yaxis": "y"
        },
        {
         "hovertemplate": "anomaly=Yes<br>ds=%{x}<br>y=%{y}<extra></extra>",
         "legendgroup": "Yes",
         "marker": {
          "color": "#EF553B",
          "symbol": "circle"
         },
         "mode": "markers",
         "name": "Yes",
         "orientation": "v",
         "showlegend": true,
         "type": "scatter",
         "x": [
          "2014-03-10T19:00:00"
         ],
         "xaxis": "x",
         "y": [
          2714714.9
         ],
         "yaxis": "y"
        }
       ],
       "layout": {
        "autosize": true,
        "legend": {
         "title": {
          "text": "anomaly"
         },
         "tracegroupgap": 0
        },
        "template": {
         "data": {
          "bar": [
           {
            "error_x": {
             "color": "#2a3f5f"
            },
            "error_y": {
             "color": "#2a3f5f"
            },
            "marker": {
             "line": {
              "color": "#E5ECF6",
              "width": 0.5
             },
             "pattern": {
              "fillmode": "overlay",
              "size": 10,
              "solidity": 0.2
             }
            },
            "type": "bar"
           }
          ],
          "barpolar": [
           {
            "marker": {
             "line": {
              "color": "#E5ECF6",
              "width": 0.5
             },
             "pattern": {
              "fillmode": "overlay",
              "size": 10,
              "solidity": 0.2
             }
            },
            "type": "barpolar"
           }
          ],
          "carpet": [
           {
            "aaxis": {
             "endlinecolor": "#2a3f5f",
             "gridcolor": "white",
             "linecolor": "white",
             "minorgridcolor": "white",
             "startlinecolor": "#2a3f5f"
            },
            "baxis": {
             "endlinecolor": "#2a3f5f",
             "gridcolor": "white",
             "linecolor": "white",
             "minorgridcolor": "white",
             "startlinecolor": "#2a3f5f"
            },
            "type": "carpet"
           }
          ],
          "choropleth": [
           {
            "colorbar": {
             "outlinewidth": 0,
             "ticks": ""
            },
            "type": "choropleth"
           }
          ],
          "contour": [
           {
            "colorbar": {
             "outlinewidth": 0,
             "ticks": ""
            },
            "colorscale": [
             [
              0,
              "#0d0887"
             ],
             [
              0.1111111111111111,
              "#46039f"
             ],
             [
              0.2222222222222222,
              "#7201a8"
             ],
             [
              0.3333333333333333,
              "#9c179e"
             ],
             [
              0.4444444444444444,
              "#bd3786"
             ],
             [
              0.5555555555555556,
              "#d8576b"
             ],
             [
              0.6666666666666666,
              "#ed7953"
             ],
             [
              0.7777777777777778,
              "#fb9f3a"
             ],
             [
              0.8888888888888888,
              "#fdca26"
             ],
             [
              1,
              "#f0f921"
             ]
            ],
            "type": "contour"
           }
          ],
          "contourcarpet": [
           {
            "colorbar": {
             "outlinewidth": 0,
             "ticks": ""
            },
            "type": "contourcarpet"
           }
          ],
          "heatmap": [
           {
            "colorbar": {
             "outlinewidth": 0,
             "ticks": ""
            },
            "colorscale": [
             [
              0,
              "#0d0887"
             ],
             [
              0.1111111111111111,
              "#46039f"
             ],
             [
              0.2222222222222222,
              "#7201a8"
             ],
             [
              0.3333333333333333,
              "#9c179e"
             ],
             [
              0.4444444444444444,
              "#bd3786"
             ],
             [
              0.5555555555555556,
              "#d8576b"
             ],
             [
              0.6666666666666666,
              "#ed7953"
             ],
             [
              0.7777777777777778,
              "#fb9f3a"
             ],
             [
              0.8888888888888888,
              "#fdca26"
             ],
             [
              1,
              "#f0f921"
             ]
            ],
            "type": "heatmap"
           }
          ],
          "heatmapgl": [
           {
            "colorbar": {
             "outlinewidth": 0,
             "ticks": ""
            },
            "colorscale": [
             [
              0,
              "#0d0887"
             ],
             [
              0.1111111111111111,
              "#46039f"
             ],
             [
              0.2222222222222222,
              "#7201a8"
             ],
             [
              0.3333333333333333,
              "#9c179e"
             ],
             [
              0.4444444444444444,
              "#bd3786"
             ],
             [
              0.5555555555555556,
              "#d8576b"
             ],
             [
              0.6666666666666666,
              "#ed7953"
             ],
             [
              0.7777777777777778,
              "#fb9f3a"
             ],
             [
              0.8888888888888888,
              "#fdca26"
             ],
             [
              1,
              "#f0f921"
             ]
            ],
            "type": "heatmapgl"
           }
          ],
          "histogram": [
           {
            "marker": {
             "pattern": {
              "fillmode": "overlay",
              "size": 10,
              "solidity": 0.2
             }
            },
            "type": "histogram"
           }
          ],
          "histogram2d": [
           {
            "colorbar": {
             "outlinewidth": 0,
             "ticks": ""
            },
            "colorscale": [
             [
              0,
              "#0d0887"
             ],
             [
              0.1111111111111111,
              "#46039f"
             ],
             [
              0.2222222222222222,
              "#7201a8"
             ],
             [
              0.3333333333333333,
              "#9c179e"
             ],
             [
              0.4444444444444444,
              "#bd3786"
             ],
             [
              0.5555555555555556,
              "#d8576b"
             ],
             [
              0.6666666666666666,
              "#ed7953"
             ],
             [
              0.7777777777777778,
              "#fb9f3a"
             ],
             [
              0.8888888888888888,
              "#fdca26"
             ],
             [
              1,
              "#f0f921"
             ]
            ],
            "type": "histogram2d"
           }
          ],
          "histogram2dcontour": [
           {
            "colorbar": {
             "outlinewidth": 0,
             "ticks": ""
            },
            "colorscale": [
             [
              0,
              "#0d0887"
             ],
             [
              0.1111111111111111,
              "#46039f"
             ],
             [
              0.2222222222222222,
              "#7201a8"
             ],
             [
              0.3333333333333333,
              "#9c179e"
             ],
             [
              0.4444444444444444,
              "#bd3786"
             ],
             [
              0.5555555555555556,
              "#d8576b"
             ],
             [
              0.6666666666666666,
              "#ed7953"
             ],
             [
              0.7777777777777778,
              "#fb9f3a"
             ],
             [
              0.8888888888888888,
              "#fdca26"
             ],
             [
              1,
              "#f0f921"
             ]
            ],
            "type": "histogram2dcontour"
           }
          ],
          "mesh3d": [
           {
            "colorbar": {
             "outlinewidth": 0,
             "ticks": ""
            },
            "type": "mesh3d"
           }
          ],
          "parcoords": [
           {
            "line": {
             "colorbar": {
              "outlinewidth": 0,
              "ticks": ""
             }
            },
            "type": "parcoords"
           }
          ],
          "pie": [
           {
            "automargin": true,
            "type": "pie"
           }
          ],
          "scatter": [
           {
            "marker": {
             "colorbar": {
              "outlinewidth": 0,
              "ticks": ""
             }
            },
            "type": "scatter"
           }
          ],
          "scatter3d": [
           {
            "line": {
             "colorbar": {
              "outlinewidth": 0,
              "ticks": ""
             }
            },
            "marker": {
             "colorbar": {
              "outlinewidth": 0,
              "ticks": ""
             }
            },
            "type": "scatter3d"
           }
          ],
          "scattercarpet": [
           {
            "marker": {
             "colorbar": {
              "outlinewidth": 0,
              "ticks": ""
             }
            },
            "type": "scattercarpet"
           }
          ],
          "scattergeo": [
           {
            "marker": {
             "colorbar": {
              "outlinewidth": 0,
              "ticks": ""
             }
            },
            "type": "scattergeo"
           }
          ],
          "scattergl": [
           {
            "marker": {
             "colorbar": {
              "outlinewidth": 0,
              "ticks": ""
             }
            },
            "type": "scattergl"
           }
          ],
          "scattermapbox": [
           {
            "marker": {
             "colorbar": {
              "outlinewidth": 0,
              "ticks": ""
             }
            },
            "type": "scattermapbox"
           }
          ],
          "scatterpolar": [
           {
            "marker": {
             "colorbar": {
              "outlinewidth": 0,
              "ticks": ""
             }
            },
            "type": "scatterpolar"
           }
          ],
          "scatterpolargl": [
           {
            "marker": {
             "colorbar": {
              "outlinewidth": 0,
              "ticks": ""
             }
            },
            "type": "scatterpolargl"
           }
          ],
          "scatterternary": [
           {
            "marker": {
             "colorbar": {
              "outlinewidth": 0,
              "ticks": ""
             }
            },
            "type": "scatterternary"
           }
          ],
          "surface": [
           {
            "colorbar": {
             "outlinewidth": 0,
             "ticks": ""
            },
            "colorscale": [
             [
              0,
              "#0d0887"
             ],
             [
              0.1111111111111111,
              "#46039f"
             ],
             [
              0.2222222222222222,
              "#7201a8"
             ],
             [
              0.3333333333333333,
              "#9c179e"
             ],
             [
              0.4444444444444444,
              "#bd3786"
             ],
             [
              0.5555555555555556,
              "#d8576b"
             ],
             [
              0.6666666666666666,
              "#ed7953"
             ],
             [
              0.7777777777777778,
              "#fb9f3a"
             ],
             [
              0.8888888888888888,
              "#fdca26"
             ],
             [
              1,
              "#f0f921"
             ]
            ],
            "type": "surface"
           }
          ],
          "table": [
           {
            "cells": {
             "fill": {
              "color": "#EBF0F8"
             },
             "line": {
              "color": "white"
             }
            },
            "header": {
             "fill": {
              "color": "#C8D4E3"
             },
             "line": {
              "color": "white"
             }
            },
            "type": "table"
           }
          ]
         },
         "layout": {
          "annotationdefaults": {
           "arrowcolor": "#2a3f5f",
           "arrowhead": 0,
           "arrowwidth": 1
          },
          "autotypenumbers": "strict",
          "coloraxis": {
           "colorbar": {
            "outlinewidth": 0,
            "ticks": ""
           }
          },
          "colorscale": {
           "diverging": [
            [
             0,
             "#8e0152"
            ],
            [
             0.1,
             "#c51b7d"
            ],
            [
             0.2,
             "#de77ae"
            ],
            [
             0.3,
             "#f1b6da"
            ],
            [
             0.4,
             "#fde0ef"
            ],
            [
             0.5,
             "#f7f7f7"
            ],
            [
             0.6,
             "#e6f5d0"
            ],
            [
             0.7,
             "#b8e186"
            ],
            [
             0.8,
             "#7fbc41"
            ],
            [
             0.9,
             "#4d9221"
            ],
            [
             1,
             "#276419"
            ]
           ],
           "sequential": [
            [
             0,
             "#0d0887"
            ],
            [
             0.1111111111111111,
             "#46039f"
            ],
            [
             0.2222222222222222,
             "#7201a8"
            ],
            [
             0.3333333333333333,
             "#9c179e"
            ],
            [
             0.4444444444444444,
             "#bd3786"
            ],
            [
             0.5555555555555556,
             "#d8576b"
            ],
            [
             0.6666666666666666,
             "#ed7953"
            ],
            [
             0.7777777777777778,
             "#fb9f3a"
            ],
            [
             0.8888888888888888,
             "#fdca26"
            ],
            [
             1,
             "#f0f921"
            ]
           ],
           "sequentialminus": [
            [
             0,
             "#0d0887"
            ],
            [
             0.1111111111111111,
             "#46039f"
            ],
            [
             0.2222222222222222,
             "#7201a8"
            ],
            [
             0.3333333333333333,
             "#9c179e"
            ],
            [
             0.4444444444444444,
             "#bd3786"
            ],
            [
             0.5555555555555556,
             "#d8576b"
            ],
            [
             0.6666666666666666,
             "#ed7953"
            ],
            [
             0.7777777777777778,
             "#fb9f3a"
            ],
            [
             0.8888888888888888,
             "#fdca26"
            ],
            [
             1,
             "#f0f921"
            ]
           ]
          },
          "colorway": [
           "#636efa",
           "#EF553B",
           "#00cc96",
           "#ab63fa",
           "#FFA15A",
           "#19d3f3",
           "#FF6692",
           "#B6E880",
           "#FF97FF",
           "#FECB52"
          ],
          "font": {
           "color": "#2a3f5f"
          },
          "geo": {
           "bgcolor": "white",
           "lakecolor": "white",
           "landcolor": "#E5ECF6",
           "showlakes": true,
           "showland": true,
           "subunitcolor": "white"
          },
          "hoverlabel": {
           "align": "left"
          },
          "hovermode": "closest",
          "mapbox": {
           "style": "light"
          },
          "paper_bgcolor": "white",
          "plot_bgcolor": "#E5ECF6",
          "polar": {
           "angularaxis": {
            "gridcolor": "white",
            "linecolor": "white",
            "ticks": ""
           },
           "bgcolor": "#E5ECF6",
           "radialaxis": {
            "gridcolor": "white",
            "linecolor": "white",
            "ticks": ""
           }
          },
          "scene": {
           "xaxis": {
            "backgroundcolor": "#E5ECF6",
            "gridcolor": "white",
            "gridwidth": 2,
            "linecolor": "white",
            "showbackground": true,
            "ticks": "",
            "zerolinecolor": "white"
           },
           "yaxis": {
            "backgroundcolor": "#E5ECF6",
            "gridcolor": "white",
            "gridwidth": 2,
            "linecolor": "white",
            "showbackground": true,
            "ticks": "",
            "zerolinecolor": "white"
           },
           "zaxis": {
            "backgroundcolor": "#E5ECF6",
            "gridcolor": "white",
            "gridwidth": 2,
            "linecolor": "white",
            "showbackground": true,
            "ticks": "",
            "zerolinecolor": "white"
           }
          },
          "shapedefaults": {
           "line": {
            "color": "#2a3f5f"
           }
          },
          "ternary": {
           "aaxis": {
            "gridcolor": "white",
            "linecolor": "white",
            "ticks": ""
           },
           "baxis": {
            "gridcolor": "white",
            "linecolor": "white",
            "ticks": ""
           },
           "bgcolor": "#E5ECF6",
           "caxis": {
            "gridcolor": "white",
            "linecolor": "white",
            "ticks": ""
           }
          },
          "title": {
           "x": 0.05
          },
          "xaxis": {
           "automargin": true,
           "gridcolor": "white",
           "linecolor": "white",
           "ticks": "",
           "title": {
            "standoff": 15
           },
           "zerolinecolor": "white",
           "zerolinewidth": 2
          },
          "yaxis": {
           "automargin": true,
           "gridcolor": "white",
           "linecolor": "white",
           "ticks": "",
           "title": {
            "standoff": 15
           },
           "zerolinecolor": "white",
           "zerolinewidth": 2
          }
         }
        },
        "title": {
         "text": "Network Usage"
        },
        "xaxis": {
         "anchor": "y",
         "autorange": true,
         "domain": [
          0,
          1
         ],
         "range": [
          "2014-02-28 17:54:23.5639",
          "2014-03-18 17:05:36.4361"
         ],
         "title": {
          "text": "ds"
         },
         "type": "date"
        },
        "yaxis": {
         "anchor": "x",
         "autorange": true,
         "domain": [
          0,
          1
         ],
         "range": [
          -223961.5414563107,
          2938739.5614563106
         ],
         "title": {
          "text": "y"
         },
         "type": "linear"
        }
       }
      },
      "image/png": "[encoded data removed]",
      "text/html": [
       "<div>                            <div id=\"c05d1b93-07c4-4e73-bc7d-f762b2215ec3\" class=\"plotly-graph-div\" style=\"height:525px; width:100%;\"></div>            <script type=\"text/javascript\">                require([\"plotly\"], function(Plotly) {                    window.PLOTLYENV=window.PLOTLYENV || {};                                    if (document.getElementById(\"c05d1b93-07c4-4e73-bc7d-f762b2215ec3\")) {                    Plotly.newPlot(                        \"c05d1b93-07c4-4e73-bc7d-f762b2215ec3\",                        [{\"hovertemplate\":\"anomaly=No<br>ds=%{x}<br>y=%{y}<extra></extra>\",\"legendgroup\":\"No\",\"marker\":{\"color\":\"#636efa\",\"symbol\":\"circle\"},\"mode\":\"markers\",\"name\":\"No\",\"orientation\":\"v\",\"showlegend\":true,\"x\":[\"2014-03-01T17:00:00\",\"2014-03-01T18:00:00\",\"2014-03-01T19:00:00\",\"2014-03-01T20:00:00\",\"2014-03-01T21:00:00\",\"2014-03-01T22:00:00\",\"2014-03-01T23:00:00\",\"2014-03-02T00:00:00\",\"2014-03-02T01:00:00\",\"2014-03-02T02:00:00\",\"2014-03-02T03:00:00\",\"2014-03-02T04:00:00\",\"2014-03-02T05:00:00\",\"2014-03-02T06:00:00\",\"2014-03-02T07:00:00\",\"2014-03-02T08:00:00\",\"2014-03-02T09:00:00\",\"2014-03-02T10:00:00\",\"2014-03-02T11:00:00\",\"2014-03-02T12:00:00\",\"2014-03-02T13:00:00\",\"2014-03-02T14:00:00\",\"2014-03-02T15:00:00\",\"2014-03-02T16:00:00\",\"2014-03-02T17:00:00\",\"2014-03-02T18:00:00\",\"2014-03-02T19:00:00\",\"2014-03-02T20:00:00\",\"2014-03-02T21:00:00\",\"2014-03-02T22:00:00\",\"2014-03-02T23:00:00\",\"2014-03-03T00:00:00\",\"2014-03-03T01:00:00\",\"2014-03-03T02:00:00\",\"2014-03-03T03:00:00\",\"2014-03-03T04:00:00\",\"2014-03-03T05:00:00\",\"2014-03-03T06:00:00\",\"2014-03-03T07:00:00\",\"2014-03-03T08:00:00\",\"2014-03-03T09:00:00\",\"2014-03-03T10:00:00\",\"2014-03-03T11:00:00\",\"2014-03-03T12:00:00\",\"2014-03-03T13:00:00\",\"2014-03-03T14:00:00\",\"2014-03-03T15:00:00\",\"2014-03-03T16:00:00\",\"2014-03-03T17:00:00\",\"2014-03-03T18:00:00\",\"2014-03-03T19:00:00\",\"2014-03-03T20:00:00\",\"2014-03-03T21:00:00\",\"2014-03-03T22:00:00\",\"2014-03-03T23:00:00\",\"2014-03-04T00:00:00\",\"2014-03-04T01:00:00\",\"2014-03-04T02:00:00\",\"2014-03-04T03:00:00\",\"2014-03-04T04:00:00\",\"2014-03-04T05:00:00\",\"2014-03-04T06:00:00\",\"2014-03-04T07:00:00\",\"2014-03-04T08:00:00\",\"2014-03-04T09:00:00\",\"2014-03-04T10:00:00\",\"2014-03-04T11:00:00\",\"2014-03-04T12:00:00\",\"2014-03-04T13:00:00\",\"2014-03-04T14:00:00\",\"2014-03-04T15:00:00\",\"2014-03-04T16:00:00\",\"2014-03-04T17:00:00\",\"2014-03-04T18:00:00\",\"2014-03-04T19:00:00\",\"2014-03-04T20:00:00\",\"2014-03-04T21:00:00\",\"2014-03-04T22:00:00\",\"2014-03-04T23:00:00\",\"2014-03-05T00:00:00\",\"2014-03-05T01:00:00\",\"2014-03-05T02:00:00\",\"2014-03-05T03:00:00\",\"2014-03-05T04:00:00\",\"2014-03-05T05:00:00\",\"2014-03-05T06:00:00\",\"2014-03-05T07:00:00\",\"2014-03-05T08:00:00\",\"2014-03-05T09:00:00\",\"2014-03-05T10:00:00\",\"2014-03-05T11:00:00\",\"2014-03-05T12:00:00\",\"2014-03-05T13:00:00\",\"2014-03-05T14:00:00\",\"2014-03-05T15:00:00\",\"2014-03-05T16:00:00\",\"2014-03-05T17:00:00\",\"2014-03-05T18:00:00\",\"2014-03-05T19:00:00\",\"2014-03-05T20:00:00\",\"2014-03-05T21:00:00\",\"2014-03-05T22:00:00\",\"2014-03-05T23:00:00\",\"2014-03-06T00:00:00\",\"2014-03-06T01:00:00\",\"2014-03-06T02:00:00\",\"2014-03-06T03:00:00\",\"2014-03-06T04:00:00\",\"2014-03-06T05:00:00\",\"2014-03-06T06:00:00\",\"2014-03-06T07:00:00\",\"2014-03-06T08:00:00\",\"2014-03-06T09:00:00\",\"2014-03-06T10:00:00\",\"2014-03-06T11:00:00\",\"2014-03-06T12:00:00\",\"2014-03-06T13:00:00\",\"2014-03-06T14:00:00\",\"2014-03-06T15:00:00\",\"2014-03-06T16:00:00\",\"2014-03-06T17:00:00\",\"2014-03-06T18:00:00\",\"2014-03-06T19:00:00\",\"2014-03-06T20:00:00\",\"2014-03-06T21:00:00\",\"2014-03-06T22:00:00\",\"2014-03-06T23:00:00\",\"2014-03-07T00:00:00\",\"2014-03-07T01:00:00\",\"2014-03-07T02:00:00\",\"2014-03-07T03:00:00\",\"2014-03-07T04:00:00\",\"2014-03-07T05:00:00\",\"2014-03-07T06:00:00\",\"2014-03-07T07:00:00\",\"2014-03-07T08:00:00\",\"2014-03-07T09:00:00\",\"2014-03-07T10:00:00\",\"2014-03-07T11:00:00\",\"2014-03-07T12:00:00\",\"2014-03-07T13:00:00\",\"2014-03-07T14:00:00\",\"2014-03-07T15:00:00\",\"2014-03-07T16:00:00\",\"2014-03-07T17:00:00\",\"2014-03-07T18:00:00\",\"2014-03-07T19:00:00\",\"2014-03-07T20:00:00\",\"2014-03-07T21:00:00\",\"2014-03-07T22:00:00\",\"2014-03-07T23:00:00\",\"2014-03-08T00:00:00\",\"2014-03-08T01:00:00\",\"2014-03-08T02:00:00\",\"2014-03-08T03:00:00\",\"2014-03-08T04:00:00\",\"2014-03-08T05:00:00\",\"2014-03-08T06:00:00\",\"2014-03-08T07:00:00\",\"2014-03-08T08:00:00\",\"2014-03-08T09:00:00\",\"2014-03-08T10:00:00\",\"2014-03-08T11:00:00\",\"2014-03-08T12:00:00\",\"2014-03-08T13:00:00\",\"2014-03-08T14:00:00\",\"2014-03-08T15:00:00\",\"2014-03-08T16:00:00\",\"2014-03-08T17:00:00\",\"2014-03-08T18:00:00\",\"2014-03-08T19:00:00\",\"2014-03-08T20:00:00\",\"2014-03-08T21:00:00\",\"2014-03-08T22:00:00\",\"2014-03-08T23:00:00\",\"2014-03-09T00:00:00\",\"2014-03-09T01:00:00\",\"2014-03-09T02:00:00\",\"2014-03-09T03:00:00\",\"2014-03-09T04:00:00\",\"2014-03-09T05:00:00\",\"2014-03-09T06:00:00\",\"2014-03-09T07:00:00\",\"2014-03-09T08:00:00\",\"2014-03-09T09:00:00\",\"2014-03-09T10:00:00\",\"2014-03-09T11:00:00\",\"2014-03-09T12:00:00\",\"2014-03-09T13:00:00\",\"2014-03-09T14:00:00\",\"2014-03-09T15:00:00\",\"2014-03-09T16:00:00\",\"2014-03-09T17:00:00\",\"2014-03-09T18:00:00\",\"2014-03-09T19:00:00\",\"2014-03-09T20:00:00\",\"2014-03-09T21:00:00\",\"2014-03-09T22:00:00\",\"2014-03-09T23:00:00\",\"2014-03-10T00:00:00\",\"2014-03-10T01:00:00\",\"2014-03-10T02:00:00\",\"2014-03-10T03:00:00\",\"2014-03-10T04:00:00\",\"2014-03-10T05:00:00\",\"2014-03-10T06:00:00\",\"2014-03-10T07:00:00\",\"2014-03-10T08:00:00\",\"2014-03-10T09:00:00\",\"2014-03-10T10:00:00\",\"2014-03-10T11:00:00\",\"2014-03-10T12:00:00\",\"2014-03-10T13:00:00\",\"2014-03-10T14:00:00\",\"2014-03-10T15:00:00\",\"2014-03-10T16:00:00\",\"2014-03-10T17:00:00\",\"2014-03-10T18:00:00\",\"2014-03-10T20:00:00\",\"2014-03-10T21:00:00\",\"2014-03-10T22:00:00\",\"2014-03-10T23:00:00\",\"2014-03-11T00:00:00\",\"2014-03-11T01:00:00\",\"2014-03-11T02:00:00\",\"2014-03-11T03:00:00\",\"2014-03-11T04:00:00\",\"2014-03-11T05:00:00\",\"2014-03-11T06:00:00\",\"2014-03-11T07:00:00\",\"2014-03-11T08:00:00\",\"2014-03-11T09:00:00\",\"2014-03-11T10:00:00\",\"2014-03-11T11:00:00\",\"2014-03-11T12:00:00\",\"2014-03-11T13:00:00\",\"2014-03-11T14:00:00\",\"2014-03-11T15:00:00\",\"2014-03-11T16:00:00\",\"2014-03-11T17:00:00\",\"2014-03-11T18:00:00\",\"2014-03-11T19:00:00\",\"2014-03-11T20:00:00\",\"2014-03-11T21:00:00\",\"2014-03-11T22:00:00\",\"2014-03-11T23:00:00\",\"2014-03-12T00:00:00\",\"2014-03-12T01:00:00\",\"2014-03-12T02:00:00\",\"2014-03-12T03:00:00\",\"2014-03-12T04:00:00\",\"2014-03-12T05:00:00\",\"2014-03-12T06:00:00\",\"2014-03-12T07:00:00\",\"2014-03-12T08:00:00\",\"2014-03-12T09:00:00\",\"2014-03-12T10:00:00\",\"2014-03-12T11:00:00\",\"2014-03-12T12:00:00\",\"2014-03-12T13:00:00\",\"2014-03-12T14:00:00\",\"2014-03-12T15:00:00\",\"2014-03-12T16:00:00\",\"2014-03-12T17:00:00\",\"2014-03-12T18:00:00\",\"2014-03-12T19:00:00\",\"2014-03-12T20:00:00\",\"2014-03-12T21:00:00\",\"2014-03-12T22:00:00\",\"2014-03-12T23:00:00\",\"2014-03-13T00:00:00\",\"2014-03-13T01:00:00\",\"2014-03-13T02:00:00\",\"2014-03-13T03:00:00\",\"2014-03-13T04:00:00\",\"2014-03-13T05:00:00\",\"2014-03-13T06:00:00\",\"2014-03-13T07:00:00\",\"2014-03-13T08:00:00\",\"2014-03-13T09:00:00\",\"2014-03-13T10:00:00\",\"2014-03-13T11:00:00\",\"2014-03-13T12:00:00\",\"2014-03-13T13:00:00\",\"2014-03-13T14:00:00\",\"2014-03-13T15:00:00\",\"2014-03-13T16:00:00\",\"2014-03-13T17:00:00\",\"2014-03-13T18:00:00\",\"2014-03-13T19:00:00\",\"2014-03-13T20:00:00\",\"2014-03-13T21:00:00\",\"2014-03-13T22:00:00\",\"2014-03-13T23:00:00\",\"2014-03-14T00:00:00\",\"2014-03-14T01:00:00\",\"2014-03-14T02:00:00\",\"2014-03-14T03:00:00\",\"2014-03-14T04:00:00\",\"2014-03-14T05:00:00\",\"2014-03-14T06:00:00\",\"2014-03-14T07:00:00\",\"2014-03-14T08:00:00\",\"2014-03-14T09:00:00\",\"2014-03-14T10:00:00\",\"2014-03-14T11:00:00\",\"2014-03-14T12:00:00\",\"2014-03-14T13:00:00\",\"2014-03-14T14:00:00\",\"2014-03-14T15:00:00\",\"2014-03-14T16:00:00\",\"2014-03-14T17:00:00\",\"2014-03-14T18:00:00\",\"2014-03-14T19:00:00\",\"2014-03-14T20:00:00\",\"2014-03-14T21:00:00\",\"2014-03-14T22:00:00\",\"2014-03-14T23:00:00\",\"2014-03-15T00:00:00\",\"2014-03-15T01:00:00\",\"2014-03-15T02:00:00\",\"2014-03-15T03:00:00\",\"2014-03-15T04:00:00\",\"2014-03-15T05:00:00\",\"2014-03-15T06:00:00\",\"2014-03-15T07:00:00\",\"2014-03-15T08:00:00\",\"2014-03-15T09:00:00\",\"2014-03-15T10:00:00\",\"2014-03-15T11:00:00\",\"2014-03-15T12:00:00\",\"2014-03-15T13:00:00\",\"2014-03-15T14:00:00\",\"2014-03-15T15:00:00\",\"2014-03-15T16:00:00\",\"2014-03-15T17:00:00\",\"2014-03-15T18:00:00\",\"2014-03-15T19:00:00\",\"2014-03-15T20:00:00\",\"2014-03-15T21:00:00\",\"2014-03-15T22:00:00\",\"2014-03-15T23:00:00\",\"2014-03-16T00:00:00\",\"2014-03-16T01:00:00\",\"2014-03-16T02:00:00\",\"2014-03-16T03:00:00\",\"2014-03-16T04:00:00\",\"2014-03-16T05:00:00\",\"2014-03-16T06:00:00\",\"2014-03-16T07:00:00\",\"2014-03-16T08:00:00\",\"2014-03-16T09:00:00\",\"2014-03-16T10:00:00\",\"2014-03-16T11:00:00\",\"2014-03-16T12:00:00\",\"2014-03-16T13:00:00\",\"2014-03-16T14:00:00\",\"2014-03-16T15:00:00\",\"2014-03-16T16:00:00\",\"2014-03-16T17:00:00\",\"2014-03-16T18:00:00\",\"2014-03-16T19:00:00\",\"2014-03-16T20:00:00\",\"2014-03-16T21:00:00\",\"2014-03-16T22:00:00\",\"2014-03-16T23:00:00\",\"2014-03-17T00:00:00\",\"2014-03-17T01:00:00\",\"2014-03-17T02:00:00\",\"2014-03-17T03:00:00\",\"2014-03-17T04:00:00\",\"2014-03-17T05:00:00\",\"2014-03-17T06:00:00\",\"2014-03-17T07:00:00\",\"2014-03-17T08:00:00\",\"2014-03-17T09:00:00\",\"2014-03-17T10:00:00\",\"2014-03-17T11:00:00\",\"2014-03-17T12:00:00\",\"2014-03-17T13:00:00\",\"2014-03-17T14:00:00\",\"2014-03-17T15:00:00\",\"2014-03-17T16:00:00\",\"2014-03-17T17:00:00\",\"2014-03-17T18:00:00\"],\"xaxis\":\"x\",\"y\":[63.120000000000005,69.3,78.35,67.8,71.49999999999999,67.0,72.2,67.8,72.2,66.2,71.49999999999999,67.8,72.89999999999999,65.6,79.74999999999999,67.8,72.9,66.2,72.2,66.99999999999999,71.49999999999999,68.5,69.99999999999999,69.2,78.35,69.2,68.49999999999999,68.5,70.69999999999999,67.0,72.19999999999999,67.8,75.09999999999998,64.0,77.64999999999999,67.0,72.19999999999999,69.19999999999999,72.19999999999999,29395.466666666674,67.7,68.49999999999999,66.2,71.49999999999999,69.2,72.2,76.05,71.49999999999999,492800.58333333343,487517.88333333336,437852.3666666667,576985.2999999999,469139.64999999997,51925.88333333335,491380.43333333335,492199.0333333334,488985.4000000001,79.74999999999999,69.89999999999999,70.69999999999999,67.8,72.1,70.6,71.49999999999999,66.3,72.19999999999999,69.2,76.85,71.4,72.89999999999999,69.9,73.6,490533.83333333343,72.19999999999999,30929.2,71.39999999999999,490242.6666666667,498116.6499999999,487278.73333333334,69.19999999999999,71.39999999999999,67.8,72.19999999999999,67.0,72.2,67.8,72.89999999999999,73.95,72.2,69.2,72.2,66.99999999999999,72.19999999999999,67.8,71.49999999999999,67.8,72.19999999999999,491291.4000000001,490454.8333333333,490458.65000000014,522802.5,133801.56666666668,1085256.6333333333,960836.5499999999,49922.13333333335,67.1,493416.98333333345,67.69999999999999,78.35,71.39999999999999,68.6,492136.9000000001,439593.38333333336,53256.75000000001,67.1,72.2,67.1,71.49999999999999,74.64999999999999,72.89999999999999,492682.3833333333,40442.48333333333,521949.2000000001,44108.700000000004,37081.75000000001,36494.96666666667,27127.300000000003,71.49999999999999,37435.0,29910.66666666667,69.2,70.8,33045.16666666668,72.19999999999999,67.0,33076.933333333334,69.2,495017.55000000005,33233.233333333344,74.39999999999999,68.5,71.49999999999999,68.49999999999999,71.49999999999999,556089.4333333333,497861.7333333334,67405.3,530645.8666666667,1097035.7166666668,500471.2833333334,585157.1666666666,135.95000000000002,495820.35000000003,496292.3500000001,497275.4333333334,496864.9000000001,75.0,70.59999999999998,74.3,77.44999999999999,73.5,69.9,72.1,70.6,72.89999999999999,69.2,70.69999999999999,69.1,70.60000000000001,70.6,79.75000000000001,69.1,73.6,442642.71666666673,54556.733333333344,69.9,74.99999999999999,null,69.2,71.3,71.99999999999999,78.95,71.39999999999999,75.00000000000001,70.6,69.99999999999999,70.6,75.0,70.60000000000001,72.2,69.9,81.85,70.60000000000001,72.2,69.10000000000001,75.7,69.9,72.89999999999999,71.3,72.8,68.39999999999999,73.59999999999998,75.95,72.7,69.2,69.89999999999999,71.3,19225.2,68.5,76.5,70.60000000000001,441928.89999999997,53049.05000000002,74.99999999999999,496395.25,499377.86666666664,598390.9333333333,543351.4,10191.466666666665,674174.2833333333,599315.15,73.09999999999998,604199.3833333334,598421.8166666667,70.6,73.60000000000001,69.2,74.3,69.89999999999999,34975.5,77.45,74.3,69.89999999999999,73.60000000000001,69.10000000000001,72.89999999999999,69.2,72.8,68.39999999999999,81.14999999999999,107221.54999999999,73.6,544499.45,55653.38333333335,67.7,74.3,69.89999999999999,72.89999999999999,72.10000000000001,78.24999999999999,70.69999999999999,73.49999999999999,608130.4833333334,70.6,72.89999999999999,68.39999999999999,74.30000000000001,70.60000000000001,71.5,69.2,72.8,76.05,73.60000000000001,601142.7666666667,35501.56666666667,70.60000000000001,687950.3833333334,853174.6333333333,601535.1333333334,640206.85,602096.3333333334,69.1,603435.55,69.2,73.59999999999998,36524.71666666667,72.89999999999999,67.8,72.19999999999999,70.6,75.0,71.39999999999999,78.24999999999999,69.89999999999999,69.19999999999999,604374.1833333333,70.69999999999999,541058.7999999999,61705.33333333334,69.3,70.0,72.89999999999999,298.93333333333334,604206.4333333335,546763.4833333333,660328.3833333333,67.10000000000001,71.49999999999999,1409.0,603694.6166666668,67.8,71.49999999999999,604334.5833333334,72.2,65.6,604636.4,69.89999999999999,70.69999999999999,69.19999999999999,74.3,603145.5000000001,605296.95,603735.1666666666,604170.75,130.15000000000003,72.19999999999999,607712.3833333334,642675.3,1149427.7333333332,61355.600000000006,71.39999999999999,72.8,67.8,77.55,70.60000000000001,73.49999999999999,69.9,69.19999999999999,74.3,70.6,70.6,68.39999999999999,73.67999999999999,null,null,null,null,null,null,null,null,null,null,null,null,null,null,null,null,null,null,null,null,null,null,null,null,null,null,null,null,null,null,null,null,null,null,null,null,null,null,null,null,null,null,null,null,null,null,null,null,null,null,null,null],\"yaxis\":\"y\",\"type\":\"scatter\"},{\"hovertemplate\":\"anomaly=Yes<br>ds=%{x}<br>y=%{y}<extra></extra>\",\"legendgroup\":\"Yes\",\"marker\":{\"color\":\"#EF553B\",\"symbol\":\"circle\"},\"mode\":\"markers\",\"name\":\"Yes\",\"orientation\":\"v\",\"showlegend\":true,\"x\":[\"2014-03-10T19:00:00\"],\"xaxis\":\"x\",\"y\":[2714714.9],\"yaxis\":\"y\",\"type\":\"scatter\"}],                        {\"template\":{\"data\":{\"bar\":[{\"error_x\":{\"color\":\"#2a3f5f\"},\"error_y\":{\"color\":\"#2a3f5f\"},\"marker\":{\"line\":{\"color\":\"#E5ECF6\",\"width\":0.5},\"pattern\":{\"fillmode\":\"overlay\",\"size\":10,\"solidity\":0.2}},\"type\":\"bar\"}],\"barpolar\":[{\"marker\":{\"line\":{\"color\":\"#E5ECF6\",\"width\":0.5},\"pattern\":{\"fillmode\":\"overlay\",\"size\":10,\"solidity\":0.2}},\"type\":\"barpolar\"}],\"carpet\":[{\"aaxis\":{\"endlinecolor\":\"#2a3f5f\",\"gridcolor\":\"white\",\"linecolor\":\"white\",\"minorgridcolor\":\"white\",\"startlinecolor\":\"#2a3f5f\"},\"baxis\":{\"endlinecolor\":\"#2a3f5f\",\"gridcolor\":\"white\",\"linecolor\":\"white\",\"minorgridcolor\":\"white\",\"startlinecolor\":\"#2a3f5f\"},\"type\":\"carpet\"}],\"choropleth\":[{\"colorbar\":{\"outlinewidth\":0,\"ticks\":\"\"},\"type\":\"choropleth\"}],\"contour\":[{\"colorbar\":{\"outlinewidth\":0,\"ticks\":\"\"},\"colorscale\":[[0.0,\"#0d0887\"],[0.1111111111111111,\"#46039f\"],[0.2222222222222222,\"#7201a8\"],[0.3333333333333333,\"#9c179e\"],[0.4444444444444444,\"#bd3786\"],[0.5555555555555556,\"#d8576b\"],[0.6666666666666666,\"#ed7953\"],[0.7777777777777778,\"#fb9f3a\"],[0.8888888888888888,\"#fdca26\"],[1.0,\"#f0f921\"]],\"type\":\"contour\"}],\"contourcarpet\":[{\"colorbar\":{\"outlinewidth\":0,\"ticks\":\"\"},\"type\":\"contourcarpet\"}],\"heatmap\":[{\"colorbar\":{\"outlinewidth\":0,\"ticks\":\"\"},\"colorscale\":[[0.0,\"#0d0887\"],[0.1111111111111111,\"#46039f\"],[0.2222222222222222,\"#7201a8\"],[0.3333333333333333,\"#9c179e\"],[0.4444444444444444,\"#bd3786\"],[0.5555555555555556,\"#d8576b\"],[0.6666666666666666,\"#ed7953\"],[0.7777777777777778,\"#fb9f3a\"],[0.8888888888888888,\"#fdca26\"],[1.0,\"#f0f921\"]],\"type\":\"heatmap\"}],\"heatmapgl\":[{\"colorbar\":{\"outlinewidth\":0,\"ticks\":\"\"},\"colorscale\":[[0.0,\"#0d0887\"],[0.1111111111111111,\"#46039f\"],[0.2222222222222222,\"#7201a8\"],[0.3333333333333333,\"#9c179e\"],[0.4444444444444444,\"#bd3786\"],[0.5555555555555556,\"#d8576b\"],[0.6666666666666666,\"#ed7953\"],[0.7777777777777778,\"#fb9f3a\"],[0.8888888888888888,\"#fdca26\"],[1.0,\"#f0f921\"]],\"type\":\"heatmapgl\"}],\"histogram\":[{\"marker\":{\"pattern\":{\"fillmode\":\"overlay\",\"size\":10,\"solidity\":0.2}},\"type\":\"histogram\"}],\"histogram2d\":[{\"colorbar\":{\"outlinewidth\":0,\"ticks\":\"\"},\"colorscale\":[[0.0,\"#0d0887\"],[0.1111111111111111,\"#46039f\"],[0.2222222222222222,\"#7201a8\"],[0.3333333333333333,\"#9c179e\"],[0.4444444444444444,\"#bd3786\"],[0.5555555555555556,\"#d8576b\"],[0.6666666666666666,\"#ed7953\"],[0.7777777777777778,\"#fb9f3a\"],[0.8888888888888888,\"#fdca26\"],[1.0,\"#f0f921\"]],\"type\":\"histogram2d\"}],\"histogram2dcontour\":[{\"colorbar\":{\"outlinewidth\":0,\"ticks\":\"\"},\"colorscale\":[[0.0,\"#0d0887\"],[0.1111111111111111,\"#46039f\"],[0.2222222222222222,\"#7201a8\"],[0.3333333333333333,\"#9c179e\"],[0.4444444444444444,\"#bd3786\"],[0.5555555555555556,\"#d8576b\"],[0.6666666666666666,\"#ed7953\"],[0.7777777777777778,\"#fb9f3a\"],[0.8888888888888888,\"#fdca26\"],[1.0,\"#f0f921\"]],\"type\":\"histogram2dcontour\"}],\"mesh3d\":[{\"colorbar\":{\"outlinewidth\":0,\"ticks\":\"\"},\"type\":\"mesh3d\"}],\"parcoords\":[{\"line\":{\"colorbar\":{\"outlinewidth\":0,\"ticks\":\"\"}},\"type\":\"parcoords\"}],\"pie\":[{\"automargin\":true,\"type\":\"pie\"}],\"scatter\":[{\"marker\":{\"colorbar\":{\"outlinewidth\":0,\"ticks\":\"\"}},\"type\":\"scatter\"}],\"scatter3d\":[{\"line\":{\"colorbar\":{\"outlinewidth\":0,\"ticks\":\"\"}},\"marker\":{\"colorbar\":{\"outlinewidth\":0,\"ticks\":\"\"}},\"type\":\"scatter3d\"}],\"scattercarpet\":[{\"marker\":{\"colorbar\":{\"outlinewidth\":0,\"ticks\":\"\"}},\"type\":\"scattercarpet\"}],\"scattergeo\":[{\"marker\":{\"colorbar\":{\"outlinewidth\":0,\"ticks\":\"\"}},\"type\":\"scattergeo\"}],\"scattergl\":[{\"marker\":{\"colorbar\":{\"outlinewidth\":0,\"ticks\":\"\"}},\"type\":\"scattergl\"}],\"scattermapbox\":[{\"marker\":{\"colorbar\":{\"outlinewidth\":0,\"ticks\":\"\"}},\"type\":\"scattermapbox\"}],\"scatterpolar\":[{\"marker\":{\"colorbar\":{\"outlinewidth\":0,\"ticks\":\"\"}},\"type\":\"scatterpolar\"}],\"scatterpolargl\":[{\"marker\":{\"colorbar\":{\"outlinewidth\":0,\"ticks\":\"\"}},\"type\":\"scatterpolargl\"}],\"scatterternary\":[{\"marker\":{\"colorbar\":{\"outlinewidth\":0,\"ticks\":\"\"}},\"type\":\"scatterternary\"}],\"surface\":[{\"colorbar\":{\"outlinewidth\":0,\"ticks\":\"\"},\"colorscale\":[[0.0,\"#0d0887\"],[0.1111111111111111,\"#46039f\"],[0.2222222222222222,\"#7201a8\"],[0.3333333333333333,\"#9c179e\"],[0.4444444444444444,\"#bd3786\"],[0.5555555555555556,\"#d8576b\"],[0.6666666666666666,\"#ed7953\"],[0.7777777777777778,\"#fb9f3a\"],[0.8888888888888888,\"#fdca26\"],[1.0,\"#f0f921\"]],\"type\":\"surface\"}],\"table\":[{\"cells\":{\"fill\":{\"color\":\"#EBF0F8\"},\"line\":{\"color\":\"white\"}},\"header\":{\"fill\":{\"color\":\"#C8D4E3\"},\"line\":{\"color\":\"white\"}},\"type\":\"table\"}]},\"layout\":{\"annotationdefaults\":{\"arrowcolor\":\"#2a3f5f\",\"arrowhead\":0,\"arrowwidth\":1},\"autotypenumbers\":\"strict\",\"coloraxis\":{\"colorbar\":{\"outlinewidth\":0,\"ticks\":\"\"}},\"colorscale\":{\"diverging\":[[0,\"#8e0152\"],[0.1,\"#c51b7d\"],[0.2,\"#de77ae\"],[0.3,\"#f1b6da\"],[0.4,\"#fde0ef\"],[0.5,\"#f7f7f7\"],[0.6,\"#e6f5d0\"],[0.7,\"#b8e186\"],[0.8,\"#7fbc41\"],[0.9,\"#4d9221\"],[1,\"#276419\"]],\"sequential\":[[0.0,\"#0d0887\"],[0.1111111111111111,\"#46039f\"],[0.2222222222222222,\"#7201a8\"],[0.3333333333333333,\"#9c179e\"],[0.4444444444444444,\"#bd3786\"],[0.5555555555555556,\"#d8576b\"],[0.6666666666666666,\"#ed7953\"],[0.7777777777777778,\"#fb9f3a\"],[0.8888888888888888,\"#fdca26\"],[1.0,\"#f0f921\"]],\"sequentialminus\":[[0.0,\"#0d0887\"],[0.1111111111111111,\"#46039f\"],[0.2222222222222222,\"#7201a8\"],[0.3333333333333333,\"#9c179e\"],[0.4444444444444444,\"#bd3786\"],[0.5555555555555556,\"#d8576b\"],[0.6666666666666666,\"#ed7953\"],[0.7777777777777778,\"#fb9f3a\"],[0.8888888888888888,\"#fdca26\"],[1.0,\"#f0f921\"]]},\"colorway\":[\"#636efa\",\"#EF553B\",\"#00cc96\",\"#ab63fa\",\"#FFA15A\",\"#19d3f3\",\"#FF6692\",\"#B6E880\",\"#FF97FF\",\"#FECB52\"],\"font\":{\"color\":\"#2a3f5f\"},\"geo\":{\"bgcolor\":\"white\",\"lakecolor\":\"white\",\"landcolor\":\"#E5ECF6\",\"showlakes\":true,\"showland\":true,\"subunitcolor\":\"white\"},\"hoverlabel\":{\"align\":\"left\"},\"hovermode\":\"closest\",\"mapbox\":{\"style\":\"light\"},\"paper_bgcolor\":\"white\",\"plot_bgcolor\":\"#E5ECF6\",\"polar\":{\"angularaxis\":{\"gridcolor\":\"white\",\"linecolor\":\"white\",\"ticks\":\"\"},\"bgcolor\":\"#E5ECF6\",\"radialaxis\":{\"gridcolor\":\"white\",\"linecolor\":\"white\",\"ticks\":\"\"}},\"scene\":{\"xaxis\":{\"backgroundcolor\":\"#E5ECF6\",\"gridcolor\":\"white\",\"gridwidth\":2,\"linecolor\":\"white\",\"showbackground\":true,\"ticks\":\"\",\"zerolinecolor\":\"white\"},\"yaxis\":{\"backgroundcolor\":\"#E5ECF6\",\"gridcolor\":\"white\",\"gridwidth\":2,\"linecolor\":\"white\",\"showbackground\":true,\"ticks\":\"\",\"zerolinecolor\":\"white\"},\"zaxis\":{\"backgroundcolor\":\"#E5ECF6\",\"gridcolor\":\"white\",\"gridwidth\":2,\"linecolor\":\"white\",\"showbackground\":true,\"ticks\":\"\",\"zerolinecolor\":\"white\"}},\"shapedefaults\":{\"line\":{\"color\":\"#2a3f5f\"}},\"ternary\":{\"aaxis\":{\"gridcolor\":\"white\",\"linecolor\":\"white\",\"ticks\":\"\"},\"baxis\":{\"gridcolor\":\"white\",\"linecolor\":\"white\",\"ticks\":\"\"},\"bgcolor\":\"#E5ECF6\",\"caxis\":{\"gridcolor\":\"white\",\"linecolor\":\"white\",\"ticks\":\"\"}},\"title\":{\"x\":0.05},\"xaxis\":{\"automargin\":true,\"gridcolor\":\"white\",\"linecolor\":\"white\",\"ticks\":\"\",\"title\":{\"standoff\":15},\"zerolinecolor\":\"white\",\"zerolinewidth\":2},\"yaxis\":{\"automargin\":true,\"gridcolor\":\"white\",\"linecolor\":\"white\",\"ticks\":\"\",\"title\":{\"standoff\":15},\"zerolinecolor\":\"white\",\"zerolinewidth\":2}}},\"xaxis\":{\"anchor\":\"y\",\"domain\":[0.0,1.0],\"title\":{\"text\":\"ds\"}},\"yaxis\":{\"anchor\":\"x\",\"domain\":[0.0,1.0],\"title\":{\"text\":\"y\"}},\"legend\":{\"title\":{\"text\":\"anomaly\"},\"tracegroupgap\":0},\"title\":{\"text\":\"Network Usage\"}},                        {\"responsive\": true}                    ).then(function(){\n",
       "                            \n",
       "var gd = document.getElementById('c05d1b93-07c4-4e73-bc7d-f762b2215ec3');\n",
       "var x = new MutationObserver(function (mutations, observer) {{\n",
       "        var display = window.getComputedStyle(gd).display;\n",
       "        if (!display || display === 'none') {{\n",
       "            console.log([gd, 'removed!']);\n",
       "            Plotly.purge(gd);\n",
       "            observer.disconnect();\n",
       "        }}\n",
       "}});\n",
       "\n",
       "// Listen for the removal of the full notebook cells\n",
       "var notebookContainer = gd.closest('#notebook-container');\n",
       "if (notebookContainer) {{\n",
       "    x.observe(notebookContainer, {childList: true});\n",
       "}}\n",
       "\n",
       "// Listen for the clearing of the current output cell\n",
       "var outputEl = gd.closest('.output');\n",
       "if (outputEl) {{\n",
       "    x.observe(outputEl, {childList: true});\n",
       "}}\n",
       "\n",
       "                        })                };                });            </script>        </div>"
      ]
     },
     "metadata": {},
     "output_type": "display_data"
    }
   ],
   "source": [
    "#visualize the anomaly data\n",
    "fig = px.scatter(result.reset_index(), x='ds', y='y', color='anomaly', title='Network Usage')\n",
    "fig.show()"
   ]
  },
  {
   "cell_type": "code",
   "execution_count": null,
   "id": "f0c1fb31-8af4-471f-8d73-90d469262036",
   "metadata": {},
   "outputs": [],
   "source": []
  }
 ],
 "metadata": {
  "kernelspec": {
   "display_name": "Python 3 (ipykernel)",
   "language": "python",
   "name": "python3"
  },
  "language_info": {
   "codemirror_mode": {
    "name": "ipython",
    "version": 3
   },
   "file_extension": ".py",
   "mimetype": "text/x-python",
   "name": "python",
   "nbconvert_exporter": "python",
   "pygments_lexer": "ipython3",
   "version": "3.8.8"
  }
 },
 "nbformat": 4,
 "nbformat_minor": 5
}
